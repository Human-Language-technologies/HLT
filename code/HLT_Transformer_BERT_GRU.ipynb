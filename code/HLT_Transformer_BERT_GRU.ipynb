{
  "nbformat": 4,
  "nbformat_minor": 0,
  "metadata": {
    "kernelspec": {
      "display_name": "Python 3",
      "language": "python",
      "name": "python3"
    },
    "language_info": {
      "codemirror_mode": {
        "name": "ipython",
        "version": 3
      },
      "file_extension": ".py",
      "mimetype": "text/x-python",
      "name": "python",
      "nbconvert_exporter": "python",
      "pygments_lexer": "ipython3",
      "version": "3.7.3"
    },
    "colab": {
      "name": "HLT Transformer - BERT - GRU.ipynb",
      "provenance": [],
      "collapsed_sections": []
    },
    "accelerator": "GPU",
    "widgets": {
      "application/vnd.jupyter.widget-state+json": {
        "bad5ac4d02894959b305dab6ea30ddcb": {
          "model_module": "@jupyter-widgets/controls",
          "model_name": "HBoxModel",
          "state": {
            "_view_name": "HBoxView",
            "_dom_classes": [],
            "_model_name": "HBoxModel",
            "_view_module": "@jupyter-widgets/controls",
            "_model_module_version": "1.5.0",
            "_view_count": null,
            "_view_module_version": "1.5.0",
            "box_style": "",
            "layout": "IPY_MODEL_58eea97228b34e519a9232e8345833a0",
            "_model_module": "@jupyter-widgets/controls",
            "children": [
              "IPY_MODEL_60a262c0103a4b9c952c9365a67dd780",
              "IPY_MODEL_d5605e9badc846f29e919a493f32e053"
            ]
          }
        },
        "58eea97228b34e519a9232e8345833a0": {
          "model_module": "@jupyter-widgets/base",
          "model_name": "LayoutModel",
          "state": {
            "_view_name": "LayoutView",
            "grid_template_rows": null,
            "right": null,
            "justify_content": null,
            "_view_module": "@jupyter-widgets/base",
            "overflow": null,
            "_model_module_version": "1.2.0",
            "_view_count": null,
            "flex_flow": null,
            "width": null,
            "min_width": null,
            "border": null,
            "align_items": null,
            "bottom": null,
            "_model_module": "@jupyter-widgets/base",
            "top": null,
            "grid_column": null,
            "overflow_y": null,
            "overflow_x": null,
            "grid_auto_flow": null,
            "grid_area": null,
            "grid_template_columns": null,
            "flex": null,
            "_model_name": "LayoutModel",
            "justify_items": null,
            "grid_row": null,
            "max_height": null,
            "align_content": null,
            "visibility": null,
            "align_self": null,
            "height": null,
            "min_height": null,
            "padding": null,
            "grid_auto_rows": null,
            "grid_gap": null,
            "max_width": null,
            "order": null,
            "_view_module_version": "1.2.0",
            "grid_template_areas": null,
            "object_position": null,
            "object_fit": null,
            "grid_auto_columns": null,
            "margin": null,
            "display": null,
            "left": null
          }
        },
        "60a262c0103a4b9c952c9365a67dd780": {
          "model_module": "@jupyter-widgets/controls",
          "model_name": "FloatProgressModel",
          "state": {
            "_view_name": "ProgressView",
            "style": "IPY_MODEL_9b97f5d86aff4cb8907744852a3446c7",
            "_dom_classes": [],
            "description": "Downloading: 100%",
            "_model_name": "FloatProgressModel",
            "bar_style": "success",
            "max": 231508,
            "_view_module": "@jupyter-widgets/controls",
            "_model_module_version": "1.5.0",
            "value": 231508,
            "_view_count": null,
            "_view_module_version": "1.5.0",
            "orientation": "horizontal",
            "min": 0,
            "description_tooltip": null,
            "_model_module": "@jupyter-widgets/controls",
            "layout": "IPY_MODEL_e1211ad9b44c4dfe98ff0839cc101638"
          }
        },
        "d5605e9badc846f29e919a493f32e053": {
          "model_module": "@jupyter-widgets/controls",
          "model_name": "HTMLModel",
          "state": {
            "_view_name": "HTMLView",
            "style": "IPY_MODEL_72d88487ca9646bf8d3b647944d25aff",
            "_dom_classes": [],
            "description": "",
            "_model_name": "HTMLModel",
            "placeholder": "​",
            "_view_module": "@jupyter-widgets/controls",
            "_model_module_version": "1.5.0",
            "value": " 232k/232k [00:00&lt;00:00, 816kB/s]",
            "_view_count": null,
            "_view_module_version": "1.5.0",
            "description_tooltip": null,
            "_model_module": "@jupyter-widgets/controls",
            "layout": "IPY_MODEL_f3cdb38cd8d547f786e33bb39241a2ca"
          }
        },
        "9b97f5d86aff4cb8907744852a3446c7": {
          "model_module": "@jupyter-widgets/controls",
          "model_name": "ProgressStyleModel",
          "state": {
            "_view_name": "StyleView",
            "_model_name": "ProgressStyleModel",
            "description_width": "initial",
            "_view_module": "@jupyter-widgets/base",
            "_model_module_version": "1.5.0",
            "_view_count": null,
            "_view_module_version": "1.2.0",
            "bar_color": null,
            "_model_module": "@jupyter-widgets/controls"
          }
        },
        "e1211ad9b44c4dfe98ff0839cc101638": {
          "model_module": "@jupyter-widgets/base",
          "model_name": "LayoutModel",
          "state": {
            "_view_name": "LayoutView",
            "grid_template_rows": null,
            "right": null,
            "justify_content": null,
            "_view_module": "@jupyter-widgets/base",
            "overflow": null,
            "_model_module_version": "1.2.0",
            "_view_count": null,
            "flex_flow": null,
            "width": null,
            "min_width": null,
            "border": null,
            "align_items": null,
            "bottom": null,
            "_model_module": "@jupyter-widgets/base",
            "top": null,
            "grid_column": null,
            "overflow_y": null,
            "overflow_x": null,
            "grid_auto_flow": null,
            "grid_area": null,
            "grid_template_columns": null,
            "flex": null,
            "_model_name": "LayoutModel",
            "justify_items": null,
            "grid_row": null,
            "max_height": null,
            "align_content": null,
            "visibility": null,
            "align_self": null,
            "height": null,
            "min_height": null,
            "padding": null,
            "grid_auto_rows": null,
            "grid_gap": null,
            "max_width": null,
            "order": null,
            "_view_module_version": "1.2.0",
            "grid_template_areas": null,
            "object_position": null,
            "object_fit": null,
            "grid_auto_columns": null,
            "margin": null,
            "display": null,
            "left": null
          }
        },
        "72d88487ca9646bf8d3b647944d25aff": {
          "model_module": "@jupyter-widgets/controls",
          "model_name": "DescriptionStyleModel",
          "state": {
            "_view_name": "StyleView",
            "_model_name": "DescriptionStyleModel",
            "description_width": "",
            "_view_module": "@jupyter-widgets/base",
            "_model_module_version": "1.5.0",
            "_view_count": null,
            "_view_module_version": "1.2.0",
            "_model_module": "@jupyter-widgets/controls"
          }
        },
        "f3cdb38cd8d547f786e33bb39241a2ca": {
          "model_module": "@jupyter-widgets/base",
          "model_name": "LayoutModel",
          "state": {
            "_view_name": "LayoutView",
            "grid_template_rows": null,
            "right": null,
            "justify_content": null,
            "_view_module": "@jupyter-widgets/base",
            "overflow": null,
            "_model_module_version": "1.2.0",
            "_view_count": null,
            "flex_flow": null,
            "width": null,
            "min_width": null,
            "border": null,
            "align_items": null,
            "bottom": null,
            "_model_module": "@jupyter-widgets/base",
            "top": null,
            "grid_column": null,
            "overflow_y": null,
            "overflow_x": null,
            "grid_auto_flow": null,
            "grid_area": null,
            "grid_template_columns": null,
            "flex": null,
            "_model_name": "LayoutModel",
            "justify_items": null,
            "grid_row": null,
            "max_height": null,
            "align_content": null,
            "visibility": null,
            "align_self": null,
            "height": null,
            "min_height": null,
            "padding": null,
            "grid_auto_rows": null,
            "grid_gap": null,
            "max_width": null,
            "order": null,
            "_view_module_version": "1.2.0",
            "grid_template_areas": null,
            "object_position": null,
            "object_fit": null,
            "grid_auto_columns": null,
            "margin": null,
            "display": null,
            "left": null
          }
        },
        "ed03d0c01f284353b707a7adc47a5046": {
          "model_module": "@jupyter-widgets/controls",
          "model_name": "HBoxModel",
          "state": {
            "_view_name": "HBoxView",
            "_dom_classes": [],
            "_model_name": "HBoxModel",
            "_view_module": "@jupyter-widgets/controls",
            "_model_module_version": "1.5.0",
            "_view_count": null,
            "_view_module_version": "1.5.0",
            "box_style": "",
            "layout": "IPY_MODEL_0c1b8de09903430fa03d912e5dd8c8af",
            "_model_module": "@jupyter-widgets/controls",
            "children": [
              "IPY_MODEL_7df91124bea24ac6a8e9e66ddd0c132b",
              "IPY_MODEL_c765c4b34cb84f80b0591225cf5fa86c"
            ]
          }
        },
        "0c1b8de09903430fa03d912e5dd8c8af": {
          "model_module": "@jupyter-widgets/base",
          "model_name": "LayoutModel",
          "state": {
            "_view_name": "LayoutView",
            "grid_template_rows": null,
            "right": null,
            "justify_content": null,
            "_view_module": "@jupyter-widgets/base",
            "overflow": null,
            "_model_module_version": "1.2.0",
            "_view_count": null,
            "flex_flow": null,
            "width": null,
            "min_width": null,
            "border": null,
            "align_items": null,
            "bottom": null,
            "_model_module": "@jupyter-widgets/base",
            "top": null,
            "grid_column": null,
            "overflow_y": null,
            "overflow_x": null,
            "grid_auto_flow": null,
            "grid_area": null,
            "grid_template_columns": null,
            "flex": null,
            "_model_name": "LayoutModel",
            "justify_items": null,
            "grid_row": null,
            "max_height": null,
            "align_content": null,
            "visibility": null,
            "align_self": null,
            "height": null,
            "min_height": null,
            "padding": null,
            "grid_auto_rows": null,
            "grid_gap": null,
            "max_width": null,
            "order": null,
            "_view_module_version": "1.2.0",
            "grid_template_areas": null,
            "object_position": null,
            "object_fit": null,
            "grid_auto_columns": null,
            "margin": null,
            "display": null,
            "left": null
          }
        },
        "7df91124bea24ac6a8e9e66ddd0c132b": {
          "model_module": "@jupyter-widgets/controls",
          "model_name": "FloatProgressModel",
          "state": {
            "_view_name": "ProgressView",
            "style": "IPY_MODEL_feb7bc3479034d9c9995b8e7e4f09cbb",
            "_dom_classes": [],
            "description": "Downloading: 100%",
            "_model_name": "FloatProgressModel",
            "bar_style": "success",
            "max": 433,
            "_view_module": "@jupyter-widgets/controls",
            "_model_module_version": "1.5.0",
            "value": 433,
            "_view_count": null,
            "_view_module_version": "1.5.0",
            "orientation": "horizontal",
            "min": 0,
            "description_tooltip": null,
            "_model_module": "@jupyter-widgets/controls",
            "layout": "IPY_MODEL_a0789ed966814655bad42e449e2d8876"
          }
        },
        "c765c4b34cb84f80b0591225cf5fa86c": {
          "model_module": "@jupyter-widgets/controls",
          "model_name": "HTMLModel",
          "state": {
            "_view_name": "HTMLView",
            "style": "IPY_MODEL_b25c4387a55a470aa5c27715beaa4ae7",
            "_dom_classes": [],
            "description": "",
            "_model_name": "HTMLModel",
            "placeholder": "​",
            "_view_module": "@jupyter-widgets/controls",
            "_model_module_version": "1.5.0",
            "value": " 433/433 [00:22&lt;00:00, 19.0B/s]",
            "_view_count": null,
            "_view_module_version": "1.5.0",
            "description_tooltip": null,
            "_model_module": "@jupyter-widgets/controls",
            "layout": "IPY_MODEL_9502296bbb82411d9057dbd2928e2b82"
          }
        },
        "feb7bc3479034d9c9995b8e7e4f09cbb": {
          "model_module": "@jupyter-widgets/controls",
          "model_name": "ProgressStyleModel",
          "state": {
            "_view_name": "StyleView",
            "_model_name": "ProgressStyleModel",
            "description_width": "initial",
            "_view_module": "@jupyter-widgets/base",
            "_model_module_version": "1.5.0",
            "_view_count": null,
            "_view_module_version": "1.2.0",
            "bar_color": null,
            "_model_module": "@jupyter-widgets/controls"
          }
        },
        "a0789ed966814655bad42e449e2d8876": {
          "model_module": "@jupyter-widgets/base",
          "model_name": "LayoutModel",
          "state": {
            "_view_name": "LayoutView",
            "grid_template_rows": null,
            "right": null,
            "justify_content": null,
            "_view_module": "@jupyter-widgets/base",
            "overflow": null,
            "_model_module_version": "1.2.0",
            "_view_count": null,
            "flex_flow": null,
            "width": null,
            "min_width": null,
            "border": null,
            "align_items": null,
            "bottom": null,
            "_model_module": "@jupyter-widgets/base",
            "top": null,
            "grid_column": null,
            "overflow_y": null,
            "overflow_x": null,
            "grid_auto_flow": null,
            "grid_area": null,
            "grid_template_columns": null,
            "flex": null,
            "_model_name": "LayoutModel",
            "justify_items": null,
            "grid_row": null,
            "max_height": null,
            "align_content": null,
            "visibility": null,
            "align_self": null,
            "height": null,
            "min_height": null,
            "padding": null,
            "grid_auto_rows": null,
            "grid_gap": null,
            "max_width": null,
            "order": null,
            "_view_module_version": "1.2.0",
            "grid_template_areas": null,
            "object_position": null,
            "object_fit": null,
            "grid_auto_columns": null,
            "margin": null,
            "display": null,
            "left": null
          }
        },
        "b25c4387a55a470aa5c27715beaa4ae7": {
          "model_module": "@jupyter-widgets/controls",
          "model_name": "DescriptionStyleModel",
          "state": {
            "_view_name": "StyleView",
            "_model_name": "DescriptionStyleModel",
            "description_width": "",
            "_view_module": "@jupyter-widgets/base",
            "_model_module_version": "1.5.0",
            "_view_count": null,
            "_view_module_version": "1.2.0",
            "_model_module": "@jupyter-widgets/controls"
          }
        },
        "9502296bbb82411d9057dbd2928e2b82": {
          "model_module": "@jupyter-widgets/base",
          "model_name": "LayoutModel",
          "state": {
            "_view_name": "LayoutView",
            "grid_template_rows": null,
            "right": null,
            "justify_content": null,
            "_view_module": "@jupyter-widgets/base",
            "overflow": null,
            "_model_module_version": "1.2.0",
            "_view_count": null,
            "flex_flow": null,
            "width": null,
            "min_width": null,
            "border": null,
            "align_items": null,
            "bottom": null,
            "_model_module": "@jupyter-widgets/base",
            "top": null,
            "grid_column": null,
            "overflow_y": null,
            "overflow_x": null,
            "grid_auto_flow": null,
            "grid_area": null,
            "grid_template_columns": null,
            "flex": null,
            "_model_name": "LayoutModel",
            "justify_items": null,
            "grid_row": null,
            "max_height": null,
            "align_content": null,
            "visibility": null,
            "align_self": null,
            "height": null,
            "min_height": null,
            "padding": null,
            "grid_auto_rows": null,
            "grid_gap": null,
            "max_width": null,
            "order": null,
            "_view_module_version": "1.2.0",
            "grid_template_areas": null,
            "object_position": null,
            "object_fit": null,
            "grid_auto_columns": null,
            "margin": null,
            "display": null,
            "left": null
          }
        },
        "d9aae8ef27b04863ab182d149067f32a": {
          "model_module": "@jupyter-widgets/controls",
          "model_name": "HBoxModel",
          "state": {
            "_view_name": "HBoxView",
            "_dom_classes": [],
            "_model_name": "HBoxModel",
            "_view_module": "@jupyter-widgets/controls",
            "_model_module_version": "1.5.0",
            "_view_count": null,
            "_view_module_version": "1.5.0",
            "box_style": "",
            "layout": "IPY_MODEL_03f5c0df7344452b8db6861a8a7d3aed",
            "_model_module": "@jupyter-widgets/controls",
            "children": [
              "IPY_MODEL_72b8ac806b914947873e6e787f4df630",
              "IPY_MODEL_b5517aeda64944ed94c267f227140a09"
            ]
          }
        },
        "03f5c0df7344452b8db6861a8a7d3aed": {
          "model_module": "@jupyter-widgets/base",
          "model_name": "LayoutModel",
          "state": {
            "_view_name": "LayoutView",
            "grid_template_rows": null,
            "right": null,
            "justify_content": null,
            "_view_module": "@jupyter-widgets/base",
            "overflow": null,
            "_model_module_version": "1.2.0",
            "_view_count": null,
            "flex_flow": null,
            "width": null,
            "min_width": null,
            "border": null,
            "align_items": null,
            "bottom": null,
            "_model_module": "@jupyter-widgets/base",
            "top": null,
            "grid_column": null,
            "overflow_y": null,
            "overflow_x": null,
            "grid_auto_flow": null,
            "grid_area": null,
            "grid_template_columns": null,
            "flex": null,
            "_model_name": "LayoutModel",
            "justify_items": null,
            "grid_row": null,
            "max_height": null,
            "align_content": null,
            "visibility": null,
            "align_self": null,
            "height": null,
            "min_height": null,
            "padding": null,
            "grid_auto_rows": null,
            "grid_gap": null,
            "max_width": null,
            "order": null,
            "_view_module_version": "1.2.0",
            "grid_template_areas": null,
            "object_position": null,
            "object_fit": null,
            "grid_auto_columns": null,
            "margin": null,
            "display": null,
            "left": null
          }
        },
        "72b8ac806b914947873e6e787f4df630": {
          "model_module": "@jupyter-widgets/controls",
          "model_name": "FloatProgressModel",
          "state": {
            "_view_name": "ProgressView",
            "style": "IPY_MODEL_c5664194bbf34e3e9a39fbc2ece787b6",
            "_dom_classes": [],
            "description": "Downloading: 100%",
            "_model_name": "FloatProgressModel",
            "bar_style": "success",
            "max": 440473133,
            "_view_module": "@jupyter-widgets/controls",
            "_model_module_version": "1.5.0",
            "value": 440473133,
            "_view_count": null,
            "_view_module_version": "1.5.0",
            "orientation": "horizontal",
            "min": 0,
            "description_tooltip": null,
            "_model_module": "@jupyter-widgets/controls",
            "layout": "IPY_MODEL_91dacd70e77a4e888b2c0bada3d5b745"
          }
        },
        "b5517aeda64944ed94c267f227140a09": {
          "model_module": "@jupyter-widgets/controls",
          "model_name": "HTMLModel",
          "state": {
            "_view_name": "HTMLView",
            "style": "IPY_MODEL_41288a14455a4d5d9a7fa950969ce449",
            "_dom_classes": [],
            "description": "",
            "_model_name": "HTMLModel",
            "placeholder": "​",
            "_view_module": "@jupyter-widgets/controls",
            "_model_module_version": "1.5.0",
            "value": " 440M/440M [00:20&lt;00:00, 21.1MB/s]",
            "_view_count": null,
            "_view_module_version": "1.5.0",
            "description_tooltip": null,
            "_model_module": "@jupyter-widgets/controls",
            "layout": "IPY_MODEL_0d024ade1a63414393090aa76bef1ee4"
          }
        },
        "c5664194bbf34e3e9a39fbc2ece787b6": {
          "model_module": "@jupyter-widgets/controls",
          "model_name": "ProgressStyleModel",
          "state": {
            "_view_name": "StyleView",
            "_model_name": "ProgressStyleModel",
            "description_width": "initial",
            "_view_module": "@jupyter-widgets/base",
            "_model_module_version": "1.5.0",
            "_view_count": null,
            "_view_module_version": "1.2.0",
            "bar_color": null,
            "_model_module": "@jupyter-widgets/controls"
          }
        },
        "91dacd70e77a4e888b2c0bada3d5b745": {
          "model_module": "@jupyter-widgets/base",
          "model_name": "LayoutModel",
          "state": {
            "_view_name": "LayoutView",
            "grid_template_rows": null,
            "right": null,
            "justify_content": null,
            "_view_module": "@jupyter-widgets/base",
            "overflow": null,
            "_model_module_version": "1.2.0",
            "_view_count": null,
            "flex_flow": null,
            "width": null,
            "min_width": null,
            "border": null,
            "align_items": null,
            "bottom": null,
            "_model_module": "@jupyter-widgets/base",
            "top": null,
            "grid_column": null,
            "overflow_y": null,
            "overflow_x": null,
            "grid_auto_flow": null,
            "grid_area": null,
            "grid_template_columns": null,
            "flex": null,
            "_model_name": "LayoutModel",
            "justify_items": null,
            "grid_row": null,
            "max_height": null,
            "align_content": null,
            "visibility": null,
            "align_self": null,
            "height": null,
            "min_height": null,
            "padding": null,
            "grid_auto_rows": null,
            "grid_gap": null,
            "max_width": null,
            "order": null,
            "_view_module_version": "1.2.0",
            "grid_template_areas": null,
            "object_position": null,
            "object_fit": null,
            "grid_auto_columns": null,
            "margin": null,
            "display": null,
            "left": null
          }
        },
        "41288a14455a4d5d9a7fa950969ce449": {
          "model_module": "@jupyter-widgets/controls",
          "model_name": "DescriptionStyleModel",
          "state": {
            "_view_name": "StyleView",
            "_model_name": "DescriptionStyleModel",
            "description_width": "",
            "_view_module": "@jupyter-widgets/base",
            "_model_module_version": "1.5.0",
            "_view_count": null,
            "_view_module_version": "1.2.0",
            "_model_module": "@jupyter-widgets/controls"
          }
        },
        "0d024ade1a63414393090aa76bef1ee4": {
          "model_module": "@jupyter-widgets/base",
          "model_name": "LayoutModel",
          "state": {
            "_view_name": "LayoutView",
            "grid_template_rows": null,
            "right": null,
            "justify_content": null,
            "_view_module": "@jupyter-widgets/base",
            "overflow": null,
            "_model_module_version": "1.2.0",
            "_view_count": null,
            "flex_flow": null,
            "width": null,
            "min_width": null,
            "border": null,
            "align_items": null,
            "bottom": null,
            "_model_module": "@jupyter-widgets/base",
            "top": null,
            "grid_column": null,
            "overflow_y": null,
            "overflow_x": null,
            "grid_auto_flow": null,
            "grid_area": null,
            "grid_template_columns": null,
            "flex": null,
            "_model_name": "LayoutModel",
            "justify_items": null,
            "grid_row": null,
            "max_height": null,
            "align_content": null,
            "visibility": null,
            "align_self": null,
            "height": null,
            "min_height": null,
            "padding": null,
            "grid_auto_rows": null,
            "grid_gap": null,
            "max_width": null,
            "order": null,
            "_view_module_version": "1.2.0",
            "grid_template_areas": null,
            "object_position": null,
            "object_fit": null,
            "grid_auto_columns": null,
            "margin": null,
            "display": null,
            "left": null
          }
        }
      }
    }
  },
  "cells": [
    {
      "cell_type": "code",
      "metadata": {
        "id": "s6ueDy4w2-PJ",
        "colab_type": "code",
        "colab": {
          "base_uri": "https://localhost:8080/",
          "height": 635
        },
        "outputId": "07e90d95-111d-4fba-a94f-e0aa1c397177"
      },
      "source": [
        "pip install transformers"
      ],
      "execution_count": null,
      "outputs": [
        {
          "output_type": "stream",
          "text": [
            "Collecting transformers\n",
            "\u001b[?25l  Downloading https://files.pythonhosted.org/packages/27/3c/91ed8f5c4e7ef3227b4119200fc0ed4b4fd965b1f0172021c25701087825/transformers-3.0.2-py3-none-any.whl (769kB)\n",
            "\r\u001b[K     |▍                               | 10kB 16.2MB/s eta 0:00:01\r\u001b[K     |▉                               | 20kB 2.9MB/s eta 0:00:01\r\u001b[K     |█▎                              | 30kB 3.8MB/s eta 0:00:01\r\u001b[K     |█▊                              | 40kB 4.2MB/s eta 0:00:01\r\u001b[K     |██▏                             | 51kB 3.4MB/s eta 0:00:01\r\u001b[K     |██▋                             | 61kB 3.8MB/s eta 0:00:01\r\u001b[K     |███                             | 71kB 4.1MB/s eta 0:00:01\r\u001b[K     |███▍                            | 81kB 4.4MB/s eta 0:00:01\r\u001b[K     |███▉                            | 92kB 4.8MB/s eta 0:00:01\r\u001b[K     |████▎                           | 102kB 4.6MB/s eta 0:00:01\r\u001b[K     |████▊                           | 112kB 4.6MB/s eta 0:00:01\r\u001b[K     |█████▏                          | 122kB 4.6MB/s eta 0:00:01\r\u001b[K     |█████▌                          | 133kB 4.6MB/s eta 0:00:01\r\u001b[K     |██████                          | 143kB 4.6MB/s eta 0:00:01\r\u001b[K     |██████▍                         | 153kB 4.6MB/s eta 0:00:01\r\u001b[K     |██████▉                         | 163kB 4.6MB/s eta 0:00:01\r\u001b[K     |███████▎                        | 174kB 4.6MB/s eta 0:00:01\r\u001b[K     |███████▊                        | 184kB 4.6MB/s eta 0:00:01\r\u001b[K     |████████                        | 194kB 4.6MB/s eta 0:00:01\r\u001b[K     |████████▌                       | 204kB 4.6MB/s eta 0:00:01\r\u001b[K     |█████████                       | 215kB 4.6MB/s eta 0:00:01\r\u001b[K     |█████████▍                      | 225kB 4.6MB/s eta 0:00:01\r\u001b[K     |█████████▉                      | 235kB 4.6MB/s eta 0:00:01\r\u001b[K     |██████████▎                     | 245kB 4.6MB/s eta 0:00:01\r\u001b[K     |██████████▋                     | 256kB 4.6MB/s eta 0:00:01\r\u001b[K     |███████████                     | 266kB 4.6MB/s eta 0:00:01\r\u001b[K     |███████████▌                    | 276kB 4.6MB/s eta 0:00:01\r\u001b[K     |████████████                    | 286kB 4.6MB/s eta 0:00:01\r\u001b[K     |████████████▍                   | 296kB 4.6MB/s eta 0:00:01\r\u001b[K     |████████████▉                   | 307kB 4.6MB/s eta 0:00:01\r\u001b[K     |█████████████▏                  | 317kB 4.6MB/s eta 0:00:01\r\u001b[K     |█████████████▋                  | 327kB 4.6MB/s eta 0:00:01\r\u001b[K     |██████████████                  | 337kB 4.6MB/s eta 0:00:01\r\u001b[K     |██████████████▌                 | 348kB 4.6MB/s eta 0:00:01\r\u001b[K     |███████████████                 | 358kB 4.6MB/s eta 0:00:01\r\u001b[K     |███████████████▍                | 368kB 4.6MB/s eta 0:00:01\r\u001b[K     |███████████████▊                | 378kB 4.6MB/s eta 0:00:01\r\u001b[K     |████████████████▏               | 389kB 4.6MB/s eta 0:00:01\r\u001b[K     |████████████████▋               | 399kB 4.6MB/s eta 0:00:01\r\u001b[K     |█████████████████               | 409kB 4.6MB/s eta 0:00:01\r\u001b[K     |█████████████████▌              | 419kB 4.6MB/s eta 0:00:01\r\u001b[K     |██████████████████              | 430kB 4.6MB/s eta 0:00:01\r\u001b[K     |██████████████████▎             | 440kB 4.6MB/s eta 0:00:01\r\u001b[K     |██████████████████▊             | 450kB 4.6MB/s eta 0:00:01\r\u001b[K     |███████████████████▏            | 460kB 4.6MB/s eta 0:00:01\r\u001b[K     |███████████████████▋            | 471kB 4.6MB/s eta 0:00:01\r\u001b[K     |████████████████████            | 481kB 4.6MB/s eta 0:00:01\r\u001b[K     |████████████████████▌           | 491kB 4.6MB/s eta 0:00:01\r\u001b[K     |████████████████████▉           | 501kB 4.6MB/s eta 0:00:01\r\u001b[K     |█████████████████████▎          | 512kB 4.6MB/s eta 0:00:01\r\u001b[K     |█████████████████████▊          | 522kB 4.6MB/s eta 0:00:01\r\u001b[K     |██████████████████████▏         | 532kB 4.6MB/s eta 0:00:01\r\u001b[K     |██████████████████████▋         | 542kB 4.6MB/s eta 0:00:01\r\u001b[K     |███████████████████████         | 552kB 4.6MB/s eta 0:00:01\r\u001b[K     |███████████████████████▍        | 563kB 4.6MB/s eta 0:00:01\r\u001b[K     |███████████████████████▉        | 573kB 4.6MB/s eta 0:00:01\r\u001b[K     |████████████████████████▎       | 583kB 4.6MB/s eta 0:00:01\r\u001b[K     |████████████████████████▊       | 593kB 4.6MB/s eta 0:00:01\r\u001b[K     |█████████████████████████▏      | 604kB 4.6MB/s eta 0:00:01\r\u001b[K     |█████████████████████████▋      | 614kB 4.6MB/s eta 0:00:01\r\u001b[K     |██████████████████████████      | 624kB 4.6MB/s eta 0:00:01\r\u001b[K     |██████████████████████████▍     | 634kB 4.6MB/s eta 0:00:01\r\u001b[K     |██████████████████████████▉     | 645kB 4.6MB/s eta 0:00:01\r\u001b[K     |███████████████████████████▎    | 655kB 4.6MB/s eta 0:00:01\r\u001b[K     |███████████████████████████▊    | 665kB 4.6MB/s eta 0:00:01\r\u001b[K     |████████████████████████████▏   | 675kB 4.6MB/s eta 0:00:01\r\u001b[K     |████████████████████████████▌   | 686kB 4.6MB/s eta 0:00:01\r\u001b[K     |█████████████████████████████   | 696kB 4.6MB/s eta 0:00:01\r\u001b[K     |█████████████████████████████▍  | 706kB 4.6MB/s eta 0:00:01\r\u001b[K     |█████████████████████████████▉  | 716kB 4.6MB/s eta 0:00:01\r\u001b[K     |██████████████████████████████▎ | 727kB 4.6MB/s eta 0:00:01\r\u001b[K     |██████████████████████████████▊ | 737kB 4.6MB/s eta 0:00:01\r\u001b[K     |███████████████████████████████ | 747kB 4.6MB/s eta 0:00:01\r\u001b[K     |███████████████████████████████▌| 757kB 4.6MB/s eta 0:00:01\r\u001b[K     |████████████████████████████████| 768kB 4.6MB/s eta 0:00:01\r\u001b[K     |████████████████████████████████| 778kB 4.6MB/s \n",
            "\u001b[?25hRequirement already satisfied: packaging in /usr/local/lib/python3.6/dist-packages (from transformers) (20.4)\n",
            "Requirement already satisfied: regex!=2019.12.17 in /usr/local/lib/python3.6/dist-packages (from transformers) (2019.12.20)\n",
            "Requirement already satisfied: filelock in /usr/local/lib/python3.6/dist-packages (from transformers) (3.0.12)\n",
            "Collecting tokenizers==0.8.1.rc1\n",
            "\u001b[?25l  Downloading https://files.pythonhosted.org/packages/40/d0/30d5f8d221a0ed981a186c8eb986ce1c94e3a6e87f994eae9f4aa5250217/tokenizers-0.8.1rc1-cp36-cp36m-manylinux1_x86_64.whl (3.0MB)\n",
            "\u001b[K     |████████████████████████████████| 3.0MB 21.0MB/s \n",
            "\u001b[?25hRequirement already satisfied: requests in /usr/local/lib/python3.6/dist-packages (from transformers) (2.23.0)\n",
            "Requirement already satisfied: dataclasses; python_version < \"3.7\" in /usr/local/lib/python3.6/dist-packages (from transformers) (0.7)\n",
            "Requirement already satisfied: tqdm>=4.27 in /usr/local/lib/python3.6/dist-packages (from transformers) (4.41.1)\n",
            "Collecting sacremoses\n",
            "\u001b[?25l  Downloading https://files.pythonhosted.org/packages/7d/34/09d19aff26edcc8eb2a01bed8e98f13a1537005d31e95233fd48216eed10/sacremoses-0.0.43.tar.gz (883kB)\n",
            "\u001b[K     |████████████████████████████████| 890kB 43.0MB/s \n",
            "\u001b[?25hRequirement already satisfied: numpy in /usr/local/lib/python3.6/dist-packages (from transformers) (1.18.5)\n",
            "Collecting sentencepiece!=0.1.92\n",
            "\u001b[?25l  Downloading https://files.pythonhosted.org/packages/d4/a4/d0a884c4300004a78cca907a6ff9a5e9fe4f090f5d95ab341c53d28cbc58/sentencepiece-0.1.91-cp36-cp36m-manylinux1_x86_64.whl (1.1MB)\n",
            "\u001b[K     |████████████████████████████████| 1.1MB 44.4MB/s \n",
            "\u001b[?25hRequirement already satisfied: six in /usr/local/lib/python3.6/dist-packages (from packaging->transformers) (1.12.0)\n",
            "Requirement already satisfied: pyparsing>=2.0.2 in /usr/local/lib/python3.6/dist-packages (from packaging->transformers) (2.4.7)\n",
            "Requirement already satisfied: certifi>=2017.4.17 in /usr/local/lib/python3.6/dist-packages (from requests->transformers) (2020.6.20)\n",
            "Requirement already satisfied: urllib3!=1.25.0,!=1.25.1,<1.26,>=1.21.1 in /usr/local/lib/python3.6/dist-packages (from requests->transformers) (1.24.3)\n",
            "Requirement already satisfied: idna<3,>=2.5 in /usr/local/lib/python3.6/dist-packages (from requests->transformers) (2.10)\n",
            "Requirement already satisfied: chardet<4,>=3.0.2 in /usr/local/lib/python3.6/dist-packages (from requests->transformers) (3.0.4)\n",
            "Requirement already satisfied: click in /usr/local/lib/python3.6/dist-packages (from sacremoses->transformers) (7.1.2)\n",
            "Requirement already satisfied: joblib in /usr/local/lib/python3.6/dist-packages (from sacremoses->transformers) (0.16.0)\n",
            "Building wheels for collected packages: sacremoses\n",
            "  Building wheel for sacremoses (setup.py) ... \u001b[?25l\u001b[?25hdone\n",
            "  Created wheel for sacremoses: filename=sacremoses-0.0.43-cp36-none-any.whl size=893260 sha256=bef625647df1327e271ffe7492498ebcae60e17818476da8bba70e31d06a797b\n",
            "  Stored in directory: /root/.cache/pip/wheels/29/3c/fd/7ce5c3f0666dab31a50123635e6fb5e19ceb42ce38d4e58f45\n",
            "Successfully built sacremoses\n",
            "Installing collected packages: tokenizers, sacremoses, sentencepiece, transformers\n",
            "Successfully installed sacremoses-0.0.43 sentencepiece-0.1.91 tokenizers-0.8.1rc1 transformers-3.0.2\n"
          ],
          "name": "stdout"
        }
      ]
    },
    {
      "cell_type": "code",
      "metadata": {
        "id": "yDGQ0AoV2zl9",
        "colab_type": "code",
        "colab": {}
      },
      "source": [
        "import torch\n",
        "\n",
        "import pandas as pd\n",
        "import random\n",
        "import numpy as np\n",
        "from torchtext import data\n",
        "from torchtext import datasets\n",
        "import torch.nn as nn\n",
        "import spacy\n",
        "from collections import Counter\n",
        "\n",
        "from transformers import BertTokenizer, BertModel\n",
        "\n",
        "import torch.optim as optim\n",
        "\n",
        "import time\n",
        "import random\n",
        "\n",
        "SEED = 1234\n",
        "\n",
        "random.seed(SEED)\n",
        "np.random.seed(SEED)\n",
        "torch.manual_seed(SEED)\n",
        "torch.backends.cudnn.deterministic = True"
      ],
      "execution_count": null,
      "outputs": []
    },
    {
      "cell_type": "code",
      "metadata": {
        "id": "9wVhm0fC2zmB",
        "colab_type": "code",
        "colab": {
          "base_uri": "https://localhost:8080/",
          "height": 67,
          "referenced_widgets": [
            "bad5ac4d02894959b305dab6ea30ddcb",
            "58eea97228b34e519a9232e8345833a0",
            "60a262c0103a4b9c952c9365a67dd780",
            "d5605e9badc846f29e919a493f32e053",
            "9b97f5d86aff4cb8907744852a3446c7",
            "e1211ad9b44c4dfe98ff0839cc101638",
            "72d88487ca9646bf8d3b647944d25aff",
            "f3cdb38cd8d547f786e33bb39241a2ca"
          ]
        },
        "outputId": "c85e2bba-2b43-48b8-f9e2-d01bbc2cee96"
      },
      "source": [
        "tokenizer = BertTokenizer.from_pretrained('bert-base-uncased')"
      ],
      "execution_count": null,
      "outputs": [
        {
          "output_type": "display_data",
          "data": {
            "application/vnd.jupyter.widget-view+json": {
              "model_id": "bad5ac4d02894959b305dab6ea30ddcb",
              "version_minor": 0,
              "version_major": 2
            },
            "text/plain": [
              "HBox(children=(FloatProgress(value=0.0, description='Downloading', max=231508.0, style=ProgressStyle(descripti…"
            ]
          },
          "metadata": {
            "tags": []
          }
        },
        {
          "output_type": "stream",
          "text": [
            "\n"
          ],
          "name": "stdout"
        }
      ]
    },
    {
      "cell_type": "code",
      "metadata": {
        "id": "22vss3mo2zmH",
        "colab_type": "code",
        "colab": {
          "base_uri": "https://localhost:8080/",
          "height": 35
        },
        "outputId": "b4422eec-e145-4c4d-b206-6cac36b79efc"
      },
      "source": [
        "init_token = tokenizer.cls_token\n",
        "eos_token = tokenizer.sep_token\n",
        "pad_token = tokenizer.pad_token\n",
        "unk_token = tokenizer.unk_token\n",
        "\n",
        "print(init_token, eos_token, pad_token, unk_token)"
      ],
      "execution_count": null,
      "outputs": [
        {
          "output_type": "stream",
          "text": [
            "[CLS] [SEP] [PAD] [UNK]\n"
          ],
          "name": "stdout"
        }
      ]
    },
    {
      "cell_type": "code",
      "metadata": {
        "id": "b9gz_BdV2zmK",
        "colab_type": "code",
        "colab": {
          "base_uri": "https://localhost:8080/",
          "height": 35
        },
        "outputId": "d39b43fd-5b2b-4851-9ca9-5c12c678f86d"
      },
      "source": [
        "init_token_idx = tokenizer.cls_token_id\n",
        "eos_token_idx = tokenizer.sep_token_id\n",
        "pad_token_idx = tokenizer.pad_token_id\n",
        "unk_token_idx = tokenizer.unk_token_id\n",
        "\n",
        "print(init_token_idx, eos_token_idx, pad_token_idx, unk_token_idx)"
      ],
      "execution_count": null,
      "outputs": [
        {
          "output_type": "stream",
          "text": [
            "101 102 0 100\n"
          ],
          "name": "stdout"
        }
      ]
    },
    {
      "cell_type": "code",
      "metadata": {
        "id": "iVnX5uiD2zmM",
        "colab_type": "code",
        "colab": {
          "base_uri": "https://localhost:8080/",
          "height": 35
        },
        "outputId": "22c49b49-f952-4a87-d4e7-0b095b4ffd9e"
      },
      "source": [
        "max_input_length = tokenizer.max_model_input_sizes['bert-base-uncased']\n",
        "\n",
        "print(max_input_length)"
      ],
      "execution_count": null,
      "outputs": [
        {
          "output_type": "stream",
          "text": [
            "512\n"
          ],
          "name": "stdout"
        }
      ]
    },
    {
      "cell_type": "code",
      "metadata": {
        "id": "ONlNBmRN2zmP",
        "colab_type": "code",
        "colab": {}
      },
      "source": [
        "def tokenize_and_cut(sentence):\n",
        "    tokens = tokenizer.tokenize(sentence) \n",
        "    tokens = tokens[:max_input_length-2]\n",
        "    return tokens"
      ],
      "execution_count": null,
      "outputs": []
    },
    {
      "cell_type": "code",
      "metadata": {
        "id": "FQdNYAF4ja9Q",
        "colab_type": "code",
        "colab": {
          "base_uri": "https://localhost:8080/",
          "height": 35
        },
        "outputId": "45722f0a-2528-453a-8852-ccd886024fad"
      },
      "source": [
        "tokenize_and_cut('positive and good')"
      ],
      "execution_count": null,
      "outputs": [
        {
          "output_type": "execute_result",
          "data": {
            "text/plain": [
              "['positive', 'and', 'good']"
            ]
          },
          "metadata": {
            "tags": []
          },
          "execution_count": 8
        }
      ]
    },
    {
      "cell_type": "code",
      "metadata": {
        "id": "XWLTMNe-jkLY",
        "colab_type": "code",
        "colab": {
          "base_uri": "https://localhost:8080/",
          "height": 35
        },
        "outputId": "6363a91a-3b1f-4f4e-9424-3cd2eca6f4fa"
      },
      "source": [
        "tokenizer.convert_tokens_to_ids('.')"
      ],
      "execution_count": null,
      "outputs": [
        {
          "output_type": "execute_result",
          "data": {
            "text/plain": [
              "1012"
            ]
          },
          "metadata": {
            "tags": []
          },
          "execution_count": 13
        }
      ]
    },
    {
      "cell_type": "code",
      "metadata": {
        "id": "fuUJn7kr2zmS",
        "colab_type": "code",
        "colab": {}
      },
      "source": [
        "TEXT = data.Field(batch_first = True,\n",
        "                  use_vocab = False,\n",
        "                  tokenize = tokenize_and_cut,\n",
        "                  preprocessing = tokenizer.convert_tokens_to_ids,\n",
        "                  init_token = init_token_idx,\n",
        "                  eos_token = eos_token_idx,\n",
        "                  pad_token = pad_token_idx,\n",
        "                  unk_token = unk_token_idx)\n",
        "\n",
        "SELECTED_TEXT = data.Field(batch_first = True,\n",
        "                  use_vocab = False,\n",
        "                  tokenize = tokenize_and_cut,\n",
        "                  preprocessing = tokenizer.convert_tokens_to_ids,\n",
        "                  init_token = init_token_idx,\n",
        "                  eos_token = eos_token_idx,\n",
        "                  pad_token = pad_token_idx,\n",
        "                  unk_token = unk_token_idx)\n",
        "\n",
        "LABEL = data.LabelField(dtype = torch.float)"
      ],
      "execution_count": null,
      "outputs": []
    },
    {
      "cell_type": "code",
      "metadata": {
        "id": "GvKdDbWG2zmV",
        "colab_type": "code",
        "colab": {}
      },
      "source": [
        "fields = [(None, None), ('text', TEXT), ('selected_text', SELECTED_TEXT), ('label', LABEL)]\n",
        "#add selected text!"
      ],
      "execution_count": null,
      "outputs": []
    },
    {
      "cell_type": "code",
      "metadata": {
        "id": "kUqJt3hi2zmX",
        "colab_type": "code",
        "colab": {}
      },
      "source": [
        "train_data = data.TabularDataset.splits(\n",
        "                                        path = '',\n",
        "                                        train = 'train_full.csv',\n",
        "                                        format = 'csv',\n",
        "                                        fields = fields,\n",
        "                                        skip_header = True\n",
        ")"
      ],
      "execution_count": null,
      "outputs": []
    },
    {
      "cell_type": "code",
      "metadata": {
        "id": "2TH4ZZim2zmZ",
        "colab_type": "code",
        "colab": {}
      },
      "source": [
        "train_data, test_data = train_data[0].split(random_state = random.seed(SEED), split_ratio=0.8)\n",
        "train_data, valid_data = train_data.split(random_state = random.seed(SEED), split_ratio=0.8)"
      ],
      "execution_count": null,
      "outputs": []
    },
    {
      "cell_type": "code",
      "metadata": {
        "id": "4VNXUBka2zmc",
        "colab_type": "code",
        "colab": {
          "base_uri": "https://localhost:8080/",
          "height": 70
        },
        "outputId": "72bc08d9-a321-4fdd-ea93-7f4dd7a71133"
      },
      "source": [
        "print(f'Number of training examples: {len(train_data)}')\n",
        "print(f'Number of validation examples: {len(valid_data)}')\n",
        "print(f'Number of testing examples: {len(test_data)}')"
      ],
      "execution_count": null,
      "outputs": [
        {
          "output_type": "stream",
          "text": [
            "Number of training examples: 17588\n",
            "Number of validation examples: 4397\n",
            "Number of testing examples: 5496\n"
          ],
          "name": "stdout"
        }
      ]
    },
    {
      "cell_type": "code",
      "metadata": {
        "id": "ORbBnfPg2zmm",
        "colab_type": "code",
        "colab": {}
      },
      "source": [
        "LABEL.build_vocab(train_data)"
      ],
      "execution_count": null,
      "outputs": []
    },
    {
      "cell_type": "code",
      "metadata": {
        "id": "dY2NdLC-Ly-Z",
        "colab_type": "code",
        "colab": {
          "base_uri": "https://localhost:8080/",
          "height": 35
        },
        "outputId": "467bf499-efbb-4fcb-ad8f-26402ee9c5d7"
      },
      "source": [
        "print(f\"Unique tokens in LABEL vocabulary: {len(LABEL.vocab)}\")"
      ],
      "execution_count": null,
      "outputs": [
        {
          "output_type": "stream",
          "text": [
            "Unique tokens in LABEL vocabulary: 3\n"
          ],
          "name": "stdout"
        }
      ]
    },
    {
      "cell_type": "code",
      "metadata": {
        "id": "s8_bS1Iz2zmp",
        "colab_type": "code",
        "colab": {
          "base_uri": "https://localhost:8080/",
          "height": 35
        },
        "outputId": "6192b467-4d5b-405d-b3a8-3f6da480a23e"
      },
      "source": [
        "print(LABEL.vocab.stoi)"
      ],
      "execution_count": null,
      "outputs": [
        {
          "output_type": "stream",
          "text": [
            "defaultdict(<function _default_unk_index at 0x7fc687dc6e18>, {'neutral': 0, 'positive': 1, 'negative': 2})\n"
          ],
          "name": "stdout"
        }
      ]
    },
    {
      "cell_type": "code",
      "metadata": {
        "id": "nD8f85f32zmr",
        "colab_type": "code",
        "colab": {}
      },
      "source": [
        "BATCH_SIZE = 32\n",
        "\n",
        "device = torch.device('cuda' if torch.cuda.is_available() else 'cpu')\n",
        "\n",
        "train_iterator, valid_iterator, test_iterator = data.BucketIterator.splits(\n",
        "    (train_data, valid_data, test_data), \n",
        "    batch_size = BATCH_SIZE, \n",
        "    device = device, sort=False)"
      ],
      "execution_count": null,
      "outputs": []
    },
    {
      "cell_type": "code",
      "metadata": {
        "id": "zY3-JdAp2zmt",
        "colab_type": "code",
        "colab": {
          "base_uri": "https://localhost:8080/",
          "height": 116,
          "referenced_widgets": [
            "ed03d0c01f284353b707a7adc47a5046",
            "0c1b8de09903430fa03d912e5dd8c8af",
            "7df91124bea24ac6a8e9e66ddd0c132b",
            "c765c4b34cb84f80b0591225cf5fa86c",
            "feb7bc3479034d9c9995b8e7e4f09cbb",
            "a0789ed966814655bad42e449e2d8876",
            "b25c4387a55a470aa5c27715beaa4ae7",
            "9502296bbb82411d9057dbd2928e2b82",
            "d9aae8ef27b04863ab182d149067f32a",
            "03f5c0df7344452b8db6861a8a7d3aed",
            "72b8ac806b914947873e6e787f4df630",
            "b5517aeda64944ed94c267f227140a09",
            "c5664194bbf34e3e9a39fbc2ece787b6",
            "91dacd70e77a4e888b2c0bada3d5b745",
            "41288a14455a4d5d9a7fa950969ce449",
            "0d024ade1a63414393090aa76bef1ee4"
          ]
        },
        "outputId": "f8d41c8f-edad-4207-c4be-3f0be405165f"
      },
      "source": [
        "bert = BertModel.from_pretrained('bert-base-uncased')"
      ],
      "execution_count": null,
      "outputs": [
        {
          "output_type": "display_data",
          "data": {
            "application/vnd.jupyter.widget-view+json": {
              "model_id": "ed03d0c01f284353b707a7adc47a5046",
              "version_minor": 0,
              "version_major": 2
            },
            "text/plain": [
              "HBox(children=(FloatProgress(value=0.0, description='Downloading', max=433.0, style=ProgressStyle(description_…"
            ]
          },
          "metadata": {
            "tags": []
          }
        },
        {
          "output_type": "stream",
          "text": [
            "\n"
          ],
          "name": "stdout"
        },
        {
          "output_type": "display_data",
          "data": {
            "application/vnd.jupyter.widget-view+json": {
              "model_id": "d9aae8ef27b04863ab182d149067f32a",
              "version_minor": 0,
              "version_major": 2
            },
            "text/plain": [
              "HBox(children=(FloatProgress(value=0.0, description='Downloading', max=440473133.0, style=ProgressStyle(descri…"
            ]
          },
          "metadata": {
            "tags": []
          }
        },
        {
          "output_type": "stream",
          "text": [
            "\n"
          ],
          "name": "stdout"
        }
      ]
    },
    {
      "cell_type": "code",
      "metadata": {
        "id": "AuwyiAdl2zmw",
        "colab_type": "code",
        "colab": {}
      },
      "source": [
        "class BERTGRUSentiment(nn.Module):\n",
        "    def __init__(self,\n",
        "                 bert,\n",
        "                 hidden_dim,\n",
        "                 output_dim,\n",
        "                 n_layers,\n",
        "                 bidirectional,\n",
        "                 dropout):\n",
        "        \n",
        "        super().__init__()\n",
        "        \n",
        "        self.bert = bert\n",
        "        \n",
        "        embedding_dim = bert.config.to_dict()['hidden_size']\n",
        "        \n",
        "        self.rnn = nn.GRU(embedding_dim,\n",
        "                          hidden_dim,\n",
        "                          num_layers = n_layers,\n",
        "                          bidirectional = bidirectional,\n",
        "                          batch_first = True,\n",
        "                          dropout = 0 if n_layers < 2 else dropout)\n",
        "        \n",
        "        self.out = nn.Linear(hidden_dim * 2 if bidirectional else hidden_dim, output_dim)\n",
        "        \n",
        "        self.dropout = nn.Dropout(dropout)\n",
        "        \n",
        "    def forward(self, text):\n",
        "        \n",
        "        #text = [batch size, sent len]\n",
        "                \n",
        "        with torch.no_grad():\n",
        "            embedded = self.bert(text)[0]\n",
        "\n",
        "         \n",
        "        #embedded = [batch size, sent len, emb dim]\n",
        "        \n",
        "        _, hidden = self.rnn(embedded)\n",
        "        \n",
        "        #hidden = [n layers * n directions, batch size, emb dim]\n",
        "        \n",
        "        if self.rnn.bidirectional:\n",
        "            hidden = self.dropout(torch.cat((hidden[-2,:,:], hidden[-1,:,:]), dim = 1))\n",
        "        else:\n",
        "            hidden = self.dropout(hidden[-1,:,:])\n",
        "\n",
        "        \n",
        "        #hidden = [batch size, hid dim]\n",
        "        \n",
        "        output = self.out(hidden)   \n",
        "        #output = [batch size, out dim]\n",
        "        \n",
        "        return output"
      ],
      "execution_count": null,
      "outputs": []
    },
    {
      "cell_type": "code",
      "metadata": {
        "id": "euR1YQRb2zmy",
        "colab_type": "code",
        "colab": {}
      },
      "source": [
        "HIDDEN_DIM = 256\n",
        "OUTPUT_DIM = 2\n",
        "N_LAYERS = 2\n",
        "BIDIRECTIONAL = True\n",
        "DROPOUT = 0.5\n",
        "\n",
        "model = BERTGRUSentiment(bert,\n",
        "                         HIDDEN_DIM,\n",
        "                         OUTPUT_DIM,\n",
        "                         N_LAYERS,\n",
        "                         BIDIRECTIONAL,\n",
        "                         DROPOUT)"
      ],
      "execution_count": null,
      "outputs": []
    },
    {
      "cell_type": "code",
      "metadata": {
        "id": "W9uzgcZo2zm0",
        "colab_type": "code",
        "colab": {
          "base_uri": "https://localhost:8080/",
          "height": 35
        },
        "outputId": "21b72e47-1f70-410a-debe-9e2f47736212"
      },
      "source": [
        "def count_parameters(model):\n",
        "    return sum(p.numel() for p in model.parameters() if p.requires_grad)\n",
        "\n",
        "print(f'The model has {count_parameters(model):,} trainable parameters')"
      ],
      "execution_count": null,
      "outputs": [
        {
          "output_type": "stream",
          "text": [
            "The model has 112,241,922 trainable parameters\n"
          ],
          "name": "stdout"
        }
      ]
    },
    {
      "cell_type": "code",
      "metadata": {
        "id": "I9kQ5-OX2zm2",
        "colab_type": "code",
        "colab": {}
      },
      "source": [
        "for name, param in model.named_parameters():                \n",
        "    if name.startswith('bert'):\n",
        "        param.requires_grad = False"
      ],
      "execution_count": null,
      "outputs": []
    },
    {
      "cell_type": "code",
      "metadata": {
        "id": "L9-RUk8X2zm4",
        "colab_type": "code",
        "colab": {
          "base_uri": "https://localhost:8080/",
          "height": 35
        },
        "outputId": "6c079e0b-0714-4c0f-980e-ee9f727feba4"
      },
      "source": [
        "def count_parameters(model):\n",
        "    return sum(p.numel() for p in model.parameters() if p.requires_grad)\n",
        "\n",
        "print(f'The model has {count_parameters(model):,} trainable parameters')"
      ],
      "execution_count": null,
      "outputs": [
        {
          "output_type": "stream",
          "text": [
            "The model has 2,759,682 trainable parameters\n"
          ],
          "name": "stdout"
        }
      ]
    },
    {
      "cell_type": "code",
      "metadata": {
        "id": "ICUv-MYq2zm7",
        "colab_type": "code",
        "colab": {
          "base_uri": "https://localhost:8080/",
          "height": 334
        },
        "outputId": "03e18d4f-a81c-4f51-f6ea-bb539138bb04"
      },
      "source": [
        "for name, param in model.named_parameters():                \n",
        "    if param.requires_grad:\n",
        "        print(name)"
      ],
      "execution_count": null,
      "outputs": [
        {
          "output_type": "stream",
          "text": [
            "rnn.weight_ih_l0\n",
            "rnn.weight_hh_l0\n",
            "rnn.bias_ih_l0\n",
            "rnn.bias_hh_l0\n",
            "rnn.weight_ih_l0_reverse\n",
            "rnn.weight_hh_l0_reverse\n",
            "rnn.bias_ih_l0_reverse\n",
            "rnn.bias_hh_l0_reverse\n",
            "rnn.weight_ih_l1\n",
            "rnn.weight_hh_l1\n",
            "rnn.bias_ih_l1\n",
            "rnn.bias_hh_l1\n",
            "rnn.weight_ih_l1_reverse\n",
            "rnn.weight_hh_l1_reverse\n",
            "rnn.bias_ih_l1_reverse\n",
            "rnn.bias_hh_l1_reverse\n",
            "out.weight\n",
            "out.bias\n"
          ],
          "name": "stdout"
        }
      ]
    },
    {
      "cell_type": "code",
      "metadata": {
        "id": "z5CNOOPE2zm9",
        "colab_type": "code",
        "colab": {}
      },
      "source": [
        "optimizer = optim.Adam(model.parameters())"
      ],
      "execution_count": null,
      "outputs": []
    },
    {
      "cell_type": "code",
      "metadata": {
        "id": "jldQ7TPS2znA",
        "colab_type": "code",
        "colab": {}
      },
      "source": [
        "#criterion = nn.CrossEntropyLoss()\n",
        "criterion = nn.MSELoss()"
      ],
      "execution_count": null,
      "outputs": []
    },
    {
      "cell_type": "code",
      "metadata": {
        "id": "95b_Czu82znC",
        "colab_type": "code",
        "colab": {}
      },
      "source": [
        "model = model.to(device)\n",
        "criterion = criterion.to(device)"
      ],
      "execution_count": null,
      "outputs": []
    },
    {
      "cell_type": "code",
      "metadata": {
        "id": "4UnHXHZX2znE",
        "colab_type": "code",
        "colab": {}
      },
      "source": [
        "def categorical_accuracy(preds, y):\n",
        "    # preds is output (3 values)\n",
        "    # y is other vector of right labels\n",
        "    \"\"\"\n",
        "    Returns accuracy per batch, i.e. if you get 8/10 right, this returns 0.8, NOT 8\n",
        "    \"\"\"\n",
        "    max_preds = preds.argmax(dim = 1, keepdim = True) # get the index of the max probability\n",
        "    correct = max_preds.squeeze(1).eq(y) # return a vector, 1 if the two cells are equal\n",
        "    return correct.sum() / torch.FloatTensor([y.shape[0]])"
      ],
      "execution_count": null,
      "outputs": []
    },
    {
      "cell_type": "code",
      "metadata": {
        "id": "EHu-8s6xhB9e",
        "colab_type": "code",
        "colab": {}
      },
      "source": [
        "def intersection(lst1, lst2): \n",
        "    #return [value for value in lst1 if value in lst2] \n",
        "    return list((Counter(lst1.tolist()) & Counter(lst2.tolist())).elements()) "
      ],
      "execution_count": null,
      "outputs": []
    },
    {
      "cell_type": "code",
      "metadata": {
        "id": "ccCyjyRPhQTG",
        "colab_type": "code",
        "colab": {}
      },
      "source": [
        "def jaccard_similarity(list1,list2):\n",
        "    lenIntersection=len(intersection(list1,list2))\n",
        "    union=(len(list1)+len(list2)) - lenIntersection\n",
        "    if union == 0:\n",
        "        return 0.0\n",
        "    else:\n",
        "        return float(lenIntersection)/union"
      ],
      "execution_count": null,
      "outputs": []
    },
    {
      "cell_type": "code",
      "metadata": {
        "id": "ngcsRDBqaqhO",
        "colab_type": "code",
        "colab": {}
      },
      "source": [
        "#calculating jaccard for pytorch tensors\n",
        "def jaccard(text, pred, y):\n",
        "    jaccard = 0\n",
        "    for i, v in enumerate(text):\n",
        "        jacc_value = jaccard_similarity(v[pred[i][0].round().int().item():pred[i][1].round().int().item()],\n",
        "                                      v[y[i][0].round().int().item():y[i][1].round().int().item()])\n",
        "        jaccard += jacc_value\n",
        "    result = jaccard / torch.FloatTensor([text.shape[0]])\n",
        "    return result"
      ],
      "execution_count": null,
      "outputs": []
    },
    {
      "cell_type": "code",
      "metadata": {
        "id": "e7cnmVdVL8iA",
        "colab_type": "code",
        "colab": {}
      },
      "source": [
        "#converting labels into bert ids\n",
        "def LabelToId(x):\n",
        "    return tokenizer.convert_tokens_to_ids(LABEL.vocab.itos[x])"
      ],
      "execution_count": null,
      "outputs": []
    },
    {
      "cell_type": "code",
      "metadata": {
        "id": "S7VVgPb1JutS",
        "colab_type": "code",
        "colab": {}
      },
      "source": [
        "#init token + label id + pad token + pad token + text ids\n",
        "def process(text, label):\n",
        "    result = torch.tensor(np.full((label.shape[0],1), init_token_idx), dtype=torch.int64, device=device)\n",
        "    pad = torch.tensor(np.full((label.shape[0],1), pad_token_idx), dtype=torch.int64, device=device)\n",
        "    labels_idx = torch.empty((label.shape), dtype=torch.int64, device=device)\n",
        "    for i, v in enumerate(label):\n",
        "        labels_idx[i] = LabelToId(int(v.item()))\n",
        "    labels_idx = labels_idx.unsqueeze(1)\n",
        "    result = torch.cat((result, labels_idx), 1)\n",
        "    result = torch.cat((result, pad) , 1)\n",
        "    result = torch.cat((result, pad) , 1)\n",
        "\n",
        "    result = torch.cat((result, text[:, 1:]), 1)\n",
        "\n",
        "    return result"
      ],
      "execution_count": null,
      "outputs": []
    },
    {
      "cell_type": "code",
      "metadata": {
        "id": "TIlpO34lKLBp",
        "colab_type": "code",
        "colab": {}
      },
      "source": [
        "#getting begin position and end position of selected text in original text\n",
        "def get_positions(text, selected_text):\n",
        "    selected_text_ = selected_text[:, 1:]\n",
        "    text_ = text[:, 1:]\n",
        "    result = torch.empty((1,2), dtype=torch.int64)\n",
        "    for i, v in enumerate(text_):\n",
        "        start_position = 0\n",
        "        end_position = 0\n",
        "        for j in range(v.shape[0]):\n",
        "            if selected_text_[i][0].item() == v[j].item():\n",
        "                for k in range(selected_text_[i].shape[0]):\n",
        "                    if selected_text_[i][k].item() == v[j+k].item():\n",
        "                        if k==0:\n",
        "                            start_position = j\n",
        "                        if selected_text_[i][k].item() == eos_token_idx:\n",
        "                            end_position = j+k\n",
        "                            break\n",
        "                    else:\n",
        "                        end_position = j+k\n",
        "                        break\n",
        "        start_position += 4\n",
        "        end_position += 4\n",
        "        positions = torch.tensor([[start_position, end_position]], dtype=torch.int64)\n",
        "        result = torch.cat((result, positions), 0)\n",
        "    return result[1:,:]"
      ],
      "execution_count": null,
      "outputs": []
    },
    {
      "cell_type": "code",
      "metadata": {
        "id": "LEAK06DkFn_Q",
        "colab_type": "code",
        "colab": {}
      },
      "source": [
        "#creating random positions as baseline\n",
        "def create_baseline(text, pos):\n",
        "    result = torch.empty((pos.shape))\n",
        "    for i, v in enumerate(text):\n",
        "        first = random.randint(4, (v==eos_token_idx).nonzero().item())\n",
        "        second = random.randint(first, (v==eos_token_idx).nonzero().item())\n",
        "        result[i] = torch.tensor([[first, second]])\n",
        "    return result"
      ],
      "execution_count": null,
      "outputs": []
    },
    {
      "cell_type": "code",
      "metadata": {
        "id": "oFGR2SdS2znG",
        "colab_type": "code",
        "colab": {}
      },
      "source": [
        "def train(model, iterator, optimizer, criterion):\n",
        "    \n",
        "    epoch_loss = 0\n",
        "    epoch_jacc = 0\n",
        "    \n",
        "    model.train()\n",
        "    \n",
        "    for batch in iterator:\n",
        "        \n",
        "        optimizer.zero_grad()\n",
        "        \n",
        "        input = process(batch.text, batch.label)\n",
        "\n",
        "        positions = get_positions(batch.text, batch.selected_text).float().to(device)\n",
        "\n",
        "        predictions = model(input)\n",
        "        \n",
        "        loss = criterion(predictions, positions)\n",
        "        \n",
        "        jacc = jaccard(input, predictions, positions)\n",
        "        \n",
        "        loss.backward()\n",
        "        \n",
        "        optimizer.step()\n",
        "        \n",
        "        epoch_loss += loss.item()\n",
        "        epoch_jacc += jacc.item()\n",
        "        \n",
        "    return epoch_loss / len(iterator), epoch_jacc / len(iterator)"
      ],
      "execution_count": null,
      "outputs": []
    },
    {
      "cell_type": "code",
      "metadata": {
        "id": "X9BDtlhU2znI",
        "colab_type": "code",
        "colab": {}
      },
      "source": [
        "def evaluate(model, iterator, criterion):\n",
        "    \n",
        "    epoch_loss = 0\n",
        "    epoch_jacc = 0\n",
        "    epoch_jacc_baseline = 0\n",
        "    epoch_loss_baseline = 0\n",
        "    \n",
        "    model.eval()\n",
        "    \n",
        "    with torch.no_grad():\n",
        "    \n",
        "        for batch in iterator:\n",
        "\n",
        "            input = process(batch.text, batch.label)\n",
        "            positions = get_positions(batch.text, batch.selected_text).float().to(device)\n",
        "\n",
        "            predictions = model(input)\n",
        "            \n",
        "            loss = criterion(predictions, positions)\n",
        "            \n",
        "            jacc = jaccard(input, predictions, positions)\n",
        "\n",
        "            baseline = create_baseline(input, positions).to(device)\n",
        "            jacc_baseline = jaccard(input, baseline, positions)\n",
        "            loss_baseline = criterion(baseline, positions)\n",
        "\n",
        "            epoch_loss += loss.item()\n",
        "            epoch_jacc += jacc.item()\n",
        "            epoch_jacc_baseline += jacc_baseline.item()\n",
        "            epoch_loss_baseline += loss_baseline.item()\n",
        "        \n",
        "    return epoch_loss / len(iterator), epoch_jacc / len(iterator), epoch_loss_baseline / len(iterator), epoch_jacc_baseline / len(iterator)"
      ],
      "execution_count": null,
      "outputs": []
    },
    {
      "cell_type": "code",
      "metadata": {
        "id": "zrRFRa6X2znM",
        "colab_type": "code",
        "colab": {}
      },
      "source": [
        "def epoch_time(start_time, end_time):\n",
        "    elapsed_time = end_time - start_time\n",
        "    elapsed_mins = int(elapsed_time / 60)\n",
        "    elapsed_secs = int(elapsed_time - (elapsed_mins * 60))\n",
        "    return elapsed_mins, elapsed_secs"
      ],
      "execution_count": null,
      "outputs": []
    },
    {
      "cell_type": "code",
      "metadata": {
        "id": "jSd5kup8B5pO",
        "colab_type": "code",
        "colab": {}
      },
      "source": [
        "train_loss_plot = []\n",
        "train_jacc_plot = []\n",
        "valid_loss_plot = []\n",
        "valid_jacc_plot = []"
      ],
      "execution_count": null,
      "outputs": []
    },
    {
      "cell_type": "code",
      "metadata": {
        "id": "89Sp4yur2znO",
        "colab_type": "code",
        "colab": {
          "base_uri": "https://localhost:8080/",
          "height": 1000
        },
        "outputId": "9e6deb65-acd5-4b36-9886-860fa8f9658a"
      },
      "source": [
        "N_EPOCHS = 20\n",
        "\n",
        "best_valid_loss = float('inf')\n",
        "\n",
        "for epoch in range(N_EPOCHS):\n",
        "    \n",
        "    start_time = time.time()\n",
        "    \n",
        "    train_loss, train_jacc = train(model, train_iterator, optimizer, criterion)\n",
        "    valid_loss, valid_jacc, baseline_loss, baseline_jacc = evaluate(model, valid_iterator, criterion)\n",
        "    train_loss_plot.append(train_loss)\n",
        "    train_jacc_plot.append(train_jacc)\n",
        "    valid_loss_plot.append(valid_loss)\n",
        "    valid_jacc_plot.append(valid_jacc)\n",
        "        \n",
        "    end_time = time.time()\n",
        "        \n",
        "    epoch_mins, epoch_secs = epoch_time(start_time, end_time)\n",
        "        \n",
        "    if valid_loss < best_valid_loss:\n",
        "        best_valid_loss = valid_loss\n",
        "        torch.save(model.state_dict(), 'bert-model.pt')\n",
        "    \n",
        "    print(f'Epoch: {epoch+1:02} | Epoch Time: {epoch_mins}m {epoch_secs}s')\n",
        "    print(f'\\tTrain Loss: {train_loss:.3f} | Train Jacc: {train_jacc*100:.2f}%')\n",
        "    print(f'\\t Val. Loss: {valid_loss:.3f} |  Val. Jacc: {valid_jacc*100:.2f}%')\n",
        "    print(f'\\t  BL. Loss: {baseline_loss:.3f} |   BL. Jacc: {baseline_jacc*100:.2f}%')"
      ],
      "execution_count": null,
      "outputs": [
        {
          "output_type": "stream",
          "text": [
            "Epoch: 01 | Epoch Time: 1m 30s\n",
            "\tTrain Loss: 57.400 | Train Jacc: 28.71%\n",
            "\t Val. Loss: 40.146 |  Val. Jacc: 35.21%\n",
            "\t  BL. Loss: 91.472 |   BL. Jacc: 16.10%\n",
            "Epoch: 02 | Epoch Time: 1m 29s\n",
            "\tTrain Loss: 38.638 | Train Jacc: 36.79%\n",
            "\t Val. Loss: 32.869 |  Val. Jacc: 41.05%\n",
            "\t  BL. Loss: 90.655 |   BL. Jacc: 16.62%\n",
            "Epoch: 03 | Epoch Time: 1m 29s\n",
            "\tTrain Loss: 35.774 | Train Jacc: 38.52%\n",
            "\t Val. Loss: 34.173 |  Val. Jacc: 41.19%\n",
            "\t  BL. Loss: 91.529 |   BL. Jacc: 16.26%\n",
            "Epoch: 04 | Epoch Time: 1m 29s\n",
            "\tTrain Loss: 33.468 | Train Jacc: 39.81%\n",
            "\t Val. Loss: 31.770 |  Val. Jacc: 41.76%\n",
            "\t  BL. Loss: 88.748 |   BL. Jacc: 15.97%\n",
            "Epoch: 05 | Epoch Time: 1m 29s\n",
            "\tTrain Loss: 31.322 | Train Jacc: 40.40%\n",
            "\t Val. Loss: 31.048 |  Val. Jacc: 43.52%\n",
            "\t  BL. Loss: 94.030 |   BL. Jacc: 15.71%\n",
            "Epoch: 06 | Epoch Time: 1m 29s\n",
            "\tTrain Loss: 29.464 | Train Jacc: 41.15%\n",
            "\t Val. Loss: 30.740 |  Val. Jacc: 44.11%\n",
            "\t  BL. Loss: 90.930 |   BL. Jacc: 16.14%\n",
            "Epoch: 07 | Epoch Time: 1m 29s\n",
            "\tTrain Loss: 27.756 | Train Jacc: 41.54%\n",
            "\t Val. Loss: 32.185 |  Val. Jacc: 41.18%\n",
            "\t  BL. Loss: 92.765 |   BL. Jacc: 16.20%\n",
            "Epoch: 08 | Epoch Time: 1m 29s\n",
            "\tTrain Loss: 26.405 | Train Jacc: 42.10%\n",
            "\t Val. Loss: 32.869 |  Val. Jacc: 40.92%\n",
            "\t  BL. Loss: 91.518 |   BL. Jacc: 16.00%\n",
            "Epoch: 09 | Epoch Time: 1m 30s\n",
            "\tTrain Loss: 24.622 | Train Jacc: 42.56%\n",
            "\t Val. Loss: 31.148 |  Val. Jacc: 45.54%\n",
            "\t  BL. Loss: 90.690 |   BL. Jacc: 16.73%\n",
            "Epoch: 10 | Epoch Time: 1m 29s\n",
            "\tTrain Loss: 23.652 | Train Jacc: 43.13%\n",
            "\t Val. Loss: 31.568 |  Val. Jacc: 43.16%\n",
            "\t  BL. Loss: 89.089 |   BL. Jacc: 16.38%\n",
            "Epoch: 11 | Epoch Time: 1m 29s\n",
            "\tTrain Loss: 21.682 | Train Jacc: 43.55%\n",
            "\t Val. Loss: 31.244 |  Val. Jacc: 45.13%\n",
            "\t  BL. Loss: 94.325 |   BL. Jacc: 15.81%\n",
            "Epoch: 12 | Epoch Time: 1m 29s\n",
            "\tTrain Loss: 20.379 | Train Jacc: 43.87%\n",
            "\t Val. Loss: 32.210 |  Val. Jacc: 42.87%\n",
            "\t  BL. Loss: 91.991 |   BL. Jacc: 15.90%\n",
            "Epoch: 13 | Epoch Time: 1m 29s\n",
            "\tTrain Loss: 19.510 | Train Jacc: 44.01%\n",
            "\t Val. Loss: 31.157 |  Val. Jacc: 44.88%\n",
            "\t  BL. Loss: 90.658 |   BL. Jacc: 16.03%\n",
            "Epoch: 14 | Epoch Time: 1m 29s\n",
            "\tTrain Loss: 18.534 | Train Jacc: 44.59%\n",
            "\t Val. Loss: 33.631 |  Val. Jacc: 41.61%\n",
            "\t  BL. Loss: 93.862 |   BL. Jacc: 16.29%\n",
            "Epoch: 15 | Epoch Time: 1m 29s\n",
            "\tTrain Loss: 17.578 | Train Jacc: 44.95%\n",
            "\t Val. Loss: 32.185 |  Val. Jacc: 45.57%\n",
            "\t  BL. Loss: 89.674 |   BL. Jacc: 15.95%\n",
            "Epoch: 16 | Epoch Time: 1m 30s\n",
            "\tTrain Loss: 16.926 | Train Jacc: 45.39%\n",
            "\t Val. Loss: 33.232 |  Val. Jacc: 44.98%\n",
            "\t  BL. Loss: 88.455 |   BL. Jacc: 16.51%\n",
            "Epoch: 17 | Epoch Time: 1m 29s\n",
            "\tTrain Loss: 15.476 | Train Jacc: 45.86%\n",
            "\t Val. Loss: 31.390 |  Val. Jacc: 43.68%\n",
            "\t  BL. Loss: 89.429 |   BL. Jacc: 16.13%\n",
            "Epoch: 18 | Epoch Time: 1m 30s\n",
            "\tTrain Loss: 15.508 | Train Jacc: 45.89%\n",
            "\t Val. Loss: 32.935 |  Val. Jacc: 46.03%\n",
            "\t  BL. Loss: 90.288 |   BL. Jacc: 16.31%\n",
            "Epoch: 19 | Epoch Time: 1m 30s\n",
            "\tTrain Loss: 14.357 | Train Jacc: 46.24%\n",
            "\t Val. Loss: 34.708 |  Val. Jacc: 44.69%\n",
            "\t  BL. Loss: 89.789 |   BL. Jacc: 16.48%\n",
            "Epoch: 20 | Epoch Time: 1m 30s\n",
            "\tTrain Loss: 14.187 | Train Jacc: 46.38%\n",
            "\t Val. Loss: 34.083 |  Val. Jacc: 45.54%\n",
            "\t  BL. Loss: 89.922 |   BL. Jacc: 16.01%\n"
          ],
          "name": "stdout"
        }
      ]
    },
    {
      "cell_type": "code",
      "metadata": {
        "id": "EFe533vWqwqJ",
        "colab_type": "code",
        "colab": {
          "base_uri": "https://localhost:8080/",
          "height": 35
        },
        "outputId": "966a7b57-f31f-40de-a368-84612c729137"
      },
      "source": [
        "model.load_state_dict(torch.load('bert-model.pt'))\n",
        "\n",
        "test_loss, test_acc, _ , _ = evaluate(model, test_iterator, criterion)\n",
        "\n",
        "print(f'Test Loss: {test_loss:.3f} | Test Jacc: {test_acc*100:.2f}%')"
      ],
      "execution_count": null,
      "outputs": [
        {
          "output_type": "stream",
          "text": [
            "Test Loss: 32.544 | Test Jacc: 45.06%\n"
          ],
          "name": "stdout"
        }
      ]
    },
    {
      "cell_type": "code",
      "metadata": {
        "id": "vM2tUiyK2znQ",
        "colab_type": "code",
        "colab": {}
      },
      "source": [
        "def predict_sentiment(model, tokenizer, sentence, label):\n",
        "    model.eval()\n",
        "    tokens = tokenizer.tokenize(sentence)\n",
        "    tokens = tokens[:max_input_length-2]\n",
        "    indexed = [init_token_idx] + [tokenizer.convert_tokens_to_ids(label)] +  [pad_token_idx] + [pad_token_idx] + tokenizer.convert_tokens_to_ids(tokens) + [eos_token_idx]\n",
        "    tensor = torch.LongTensor(indexed).to(device)\n",
        "    tensor = tensor.unsqueeze(0)\n",
        "    prediction = model(tensor)\n",
        "    #max_preds = prediction.argmax(dim = 1)\n",
        "    return prediction, indexed\n",
        "    #return max_preds.item()"
      ],
      "execution_count": null,
      "outputs": []
    },
    {
      "cell_type": "code",
      "metadata": {
        "id": "Hs0dPeKIVWdo",
        "colab_type": "code",
        "colab": {
          "base_uri": "https://localhost:8080/",
          "height": 35
        },
        "outputId": "0c83a551-583d-4ec6-eecf-a044d09f8ccc"
      },
      "source": [
        "sentence = \"I am very sorry and today is very ugly.\"\n",
        "label = \"negative\"\n",
        "pred_class, indexed = predict_sentiment(model, tokenizer, sentence , label)\n",
        "result = [tokenizer.convert_ids_to_tokens(i) for i in indexed[pred_class[0][0].round().int().item():pred_class[0][1].round().int().item()]]\n",
        "print(result)"
      ],
      "execution_count": null,
      "outputs": [
        {
          "output_type": "stream",
          "text": [
            "['sorry', 'and', 'today', 'is', 'very']\n"
          ],
          "name": "stdout"
        }
      ]
    }
  ]
}